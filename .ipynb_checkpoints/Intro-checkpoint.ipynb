{
 "cells": [
  {
   "cell_type": "markdown",
   "metadata": {},
   "source": [
    "### housekeeping"
   ]
  },
  {
   "cell_type": "code",
   "execution_count": 5,
   "metadata": {},
   "outputs": [],
   "source": [
    "import numpy as np\n",
    "import pandas as pd\n",
    "import json\n",
    "import matplotlib.pyplot as plt"
   ]
  },
  {
   "cell_type": "code",
   "execution_count": 6,
   "metadata": {},
   "outputs": [],
   "source": [
    "cned = pd.read_csv('data/cned/cned.csv')\n",
    "sned = pd.read_csv('data/sned/sned.csv')\n",
    "mn = pd.read_csv('data/mn/1m2017.csv')\n",
    "cned.dropna(inplace=True)\n",
    "sned.dropna(inplace=True)\n",
    "mn.dropna(inplace=True)"
   ]
  },
  {
   "cell_type": "code",
   "execution_count": null,
   "metadata": {},
   "outputs": [],
   "source": []
  },
  {
   "cell_type": "markdown",
   "metadata": {},
   "source": [
    "# Human capital skills for jobs in the next generation\n",
    "\n",
    "Increasingly, highly demanded jobs require a diverse set of human capital skills: team-building, mindfulness, continous learning (see an example from [United Nations](https://careers.un.org/lbw/attachments/competencies_booklet_en.pdf)). Moreover, jobs in demand are linked to fast growing higher education programs, which in turn have stricter entry requirements, measured by standarized tests (like SAT or equivalent).  Here is an example from Chile, showing the relationship between mean standarized college entry scores in Chile (PSU) and enrollement size for each program across all areas of higher education (excludes programs without test requirements).\n"
   ]
  },
  {
   "cell_type": "code",
   "execution_count": 8,
   "metadata": {},
   "outputs": [
    {
     "data": {
      "text/plain": [
       "<matplotlib.collections.PathCollection at 0x1babd493d30>"
      ]
     },
     "execution_count": 8,
     "metadata": {},
     "output_type": "execute_result"
    },
    {
     "data": {
      "image/png": "[encoded data removed]",
      "text/plain": [
       "<Figure size 432x288 with 1 Axes>"
      ]
     },
     "metadata": {
      "needs_background": "light"
     },
     "output_type": "display_data"
    }
   ],
   "source": [
    "std_score=cned['puntaje']\n",
    "enrollment=cned['ingreso2']\n",
    "for marker in cned['area']\n",
    "plt.scatter(std_score, enrollment, alpha=1)\n"
   ]
  },
  {
   "cell_type": "markdown",
   "metadata": {},
   "source": [
    "\n",
    "This complex mix of capacities, required to be successful in atractive career paths, demand an active human skill accumulation process during the school years. Extensive evidence indicates that active learning at school requires a mix of socio-emotional skills and physical health. The [OCDE](https://read.oecd-ilibrary.org/social-issues-migration-health/the-heavy-burden-of-obesity_67450d67-en#page1) estimates suggest that normal weight is associated with  "
   ]
  },
  {
   "cell_type": "code",
   "execution_count": 78,
   "metadata": {},
   "outputs": [],
   "source": [
    "mn['obesityPrevalence'] = ((mn['onino'] + mn['onina']) / mn['total']) * 100\n",
    "mn.set_index('idrbd')\n",
    "mn['idrbd'] = mn['idrbd'].astype(np.int64)\n",
    "mergedData = pd.merge(mn, sned, on='idrbd', how='inner')"
   ]
  },
  {
   "cell_type": "code",
   "execution_count": null,
   "metadata": {},
   "outputs": [],
   "source": []
  }
 ],
 "metadata": {
  "kernelspec": {
   "display_name": "Python 3",
   "language": "python",
   "name": "python3"
  },
  "language_info": {
   "codemirror_mode": {
    "name": "ipython",
    "version": 3
   },
   "file_extension": ".py",
   "mimetype": "text/x-python",
   "name": "python",
   "nbconvert_exporter": "python",
   "pygments_lexer": "ipython3",
   "version": "3.7.3"
  }
 },
 "nbformat": 4,
 "nbformat_minor": 2
}
