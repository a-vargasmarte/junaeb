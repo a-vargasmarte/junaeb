{
 "cells": [
  {
   "cell_type": "markdown",
   "metadata": {},
   "source": [
    "# Data Transformation"
   ]
  },
  {
   "cell_type": "code",
   "execution_count": 1,
   "metadata": {},
   "outputs": [],
   "source": [
    "import numpy as np\n",
    "import pandas as pd"
   ]
  },
  {
   "cell_type": "markdown",
   "metadata": {},
   "source": [
    "## Obesity prevalence by school\n",
    "\n",
    "In the following we will extract information about the obesity prevalence from elementary and high schools in Chile\n"
   ]
  },
  {
   "cell_type": "code",
   "execution_count": 2,
   "metadata": {},
   "outputs": [],
   "source": [
    "data = pd.read_csv('../data/mn/2017-highschool.csv')"
   ]
  },
  {
   "cell_type": "code",
   "execution_count": 5,
   "metadata": {},
   "outputs": [
    {
     "name": "stdout",
     "output_type": "stream",
     "text": [
      "<class 'pandas.core.frame.DataFrame'>\n",
      "RangeIndex: 2481 entries, 0 to 2480\n",
      "Data columns (total 32 columns):\n",
      "Código Establecimiento                2480 non-null float64\n",
      "Nombre Establecimiento                2481 non-null object\n",
      "Dependencia Establecimiento           2480 non-null object\n",
      "Nombre Región                         2480 non-null object\n",
      "Nombre Comuna                         2480 non-null object\n",
      "Área Geográfica                       2480 non-null object\n",
      "Niños con Desnutrición                2481 non-null int64\n",
      "Prevalencia Desnutrición Niños        2481 non-null object\n",
      "Niñas con Desnutrición                2481 non-null int64\n",
      "Prevalencia Desnutrición Niñas        2481 non-null object\n",
      "Niños con Bajo Peso                   2481 non-null int64\n",
      "Prevalencia Bajo Peso Niños           2481 non-null object\n",
      "Niñas con Bajo Peso                   2481 non-null int64\n",
      "Prevalencia Bajo Peso Niñas           2481 non-null object\n",
      "Niños con Peso Normal                 2481 non-null int64\n",
      "Prevalencia Peso Normal Niños         2481 non-null object\n",
      "Niñas con Peso Normal                 2481 non-null int64\n",
      "Prevalencia Peso Normal Niñas         2481 non-null object\n",
      "Niños con Sobrepeso                   2481 non-null int64\n",
      "Prevalencia Sobrepeso Niños           2481 non-null object\n",
      "Niñas con Sobrepeso                   2481 non-null int64\n",
      "Prevalencia Sobrepeso Niñas           2481 non-null object\n",
      "Niños con Obesidad                    2481 non-null int64\n",
      "Prevalencia Obesidad Niños            2481 non-null object\n",
      "Niñas con Obesidad                    2481 non-null int64\n",
      "Prevalencia Obesidad Niñas            2481 non-null object\n",
      "Niños con Retraso en talla            2481 non-null int64\n",
      "Prevalencia Retraso en talla Niños    2481 non-null object\n",
      "Niñas con Retraso en talla            2481 non-null int64\n",
      "Prevalencia Retraso en talla Niñas    2481 non-null object\n",
      "Total Niños                           2481 non-null int64\n",
      "Total Niñas                           2481 non-null int64\n",
      "dtypes: float64(1), int64(14), object(17)\n",
      "memory usage: 620.4+ KB\n"
     ]
    }
   ],
   "source": [
    "# look at info about the data\n",
    "data.info()"
   ]
  },
  {
   "cell_type": "markdown",
   "metadata": {},
   "source": [
    "The following da"
   ]
  }
 ],
 "metadata": {
  "kernelspec": {
   "display_name": "Python 3",
   "language": "python",
   "name": "python3"
  },
  "language_info": {
   "codemirror_mode": {
    "name": "ipython",
    "version": 3
   },
   "file_extension": ".py",
   "mimetype": "text/x-python",
   "name": "python",
   "nbconvert_exporter": "python",
   "pygments_lexer": "ipython3",
   "version": "3.7.3"
  }
 },
 "nbformat": 4,
 "nbformat_minor": 2
}
